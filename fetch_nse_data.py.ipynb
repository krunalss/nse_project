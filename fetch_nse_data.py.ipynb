{
 "cells": [
  {
   "cell_type": "code",
   "execution_count": 6,
   "id": "34aa1366",
   "metadata": {},
   "outputs": [],
   "source": [
    "import pandas as pd\n",
    "from nsepy import get_history\n",
    "from datetime import date\n"
   ]
  },
  {
   "cell_type": "code",
   "execution_count": 10,
   "id": "d5bb787b",
   "metadata": {},
   "outputs": [],
   "source": [
    "symbol = 'RELIANCE'\n",
    "start_date = date(2023, 3, 23)\n",
    "end_date = date(2023, 3,24 )"
   ]
  },
  {
   "cell_type": "code",
   "execution_count": 11,
   "id": "0069b883",
   "metadata": {},
   "outputs": [],
   "source": [
    "data = get_history(symbol=symbol, start=start_date, end=end_date)"
   ]
  },
  {
   "cell_type": "code",
   "execution_count": 12,
   "id": "b34922bf",
   "metadata": {},
   "outputs": [],
   "source": [
    "data.to_csv('reliance_data.csv')"
   ]
  },
  {
   "cell_type": "code",
   "execution_count": null,
   "id": "94fc2d67",
   "metadata": {},
   "outputs": [],
   "source": []
  },
  {
   "cell_type": "code",
   "execution_count": null,
   "id": "aae6226a",
   "metadata": {},
   "outputs": [],
   "source": []
  }
 ],
 "metadata": {
  "kernelspec": {
   "display_name": "Python 3 (ipykernel)",
   "language": "python",
   "name": "python3"
  },
  "language_info": {
   "codemirror_mode": {
    "name": "ipython",
    "version": 3
   },
   "file_extension": ".py",
   "mimetype": "text/x-python",
   "name": "python",
   "nbconvert_exporter": "python",
   "pygments_lexer": "ipython3",
   "version": "3.11.2"
  }
 },
 "nbformat": 4,
 "nbformat_minor": 5
}
